{
 "cells": [
  {
   "cell_type": "code",
   "execution_count": 1,
   "metadata": {},
   "outputs": [],
   "source": [
    "import pandas as pd"
   ]
  },
  {
   "cell_type": "code",
   "execution_count": 2,
   "metadata": {},
   "outputs": [],
   "source": [
    "def combine(year):\n",
    "    gdp_file = './WIOT_Data/' + str(year) + '.csv'\n",
    "    df_gdp = pd.read_csv(gdp_file, sep=';')\n",
    "    df_gdp.dropna(how=\"all\", inplace=True) \n",
    "    df_gdp = df_gdp.rename(index=str, columns={\"In\": \"GDP\", \"Out\": \"GrossOutput\"})\n",
    "     \n",
    "    pop_file = './population/' + 'population_' + str(year) + '.csv'\n",
    "    df_pop = pd.read_csv(pop_file, sep=',')\n",
    "    \n",
    "    df = df_pop.join(df_gdp.set_index('Country'), on='Country')\n",
    "    df['GDPperCap'] = df['GDP']/df['Population']\n",
    "    df['GDPperGrossOut'] = df['GDP']/df['GrossOutput']\n",
    "    \n",
    "    path = './GDP_Population/GdpPop' + str(year) + '.csv'\n",
    "    df.to_csv (path_or_buf= path, index = True, header=True)"
   ]
  },
  {
   "cell_type": "code",
   "execution_count": 3,
   "metadata": {},
   "outputs": [],
   "source": [
    "for year in range(2000, 2015):\n",
    "    combine(year)"
   ]
  },
  {
   "cell_type": "code",
   "execution_count": 4,
   "metadata": {},
   "outputs": [],
   "source": [
    "for year in range(2000, 2015):\n",
    "    file_path = './GDP_Population/GdpPop' + str(year) + '.csv'\n",
    "    file = pd.read_csv(file_path, sep=',')\n"
   ]
  },
  {
   "cell_type": "code",
   "execution_count": null,
   "metadata": {},
   "outputs": [],
   "source": []
  },
  {
   "cell_type": "code",
   "execution_count": null,
   "metadata": {},
   "outputs": [],
   "source": []
  }
 ],
 "metadata": {
  "kernelspec": {
   "display_name": "Python 3",
   "language": "python",
   "name": "python3"
  },
  "language_info": {
   "codemirror_mode": {
    "name": "ipython",
    "version": 3
   },
   "file_extension": ".py",
   "mimetype": "text/x-python",
   "name": "python",
   "nbconvert_exporter": "python",
   "pygments_lexer": "ipython3",
   "version": "3.6.6"
  }
 },
 "nbformat": 4,
 "nbformat_minor": 2
}
