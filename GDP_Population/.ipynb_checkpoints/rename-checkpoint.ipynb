{
 "cells": [
  {
   "cell_type": "code",
   "execution_count": 1,
   "metadata": {},
   "outputs": [
    {
     "name": "stdout",
     "output_type": "stream",
     "text": [
      "/Users/mac/Desktop/590V_project/project_data\n"
     ]
    }
   ],
   "source": [
    "cd ../project_data"
   ]
  },
  {
   "cell_type": "code",
   "execution_count": 2,
   "metadata": {},
   "outputs": [],
   "source": [
    "import pandas as pd\n"
   ]
  },
  {
   "cell_type": "code",
   "execution_count": 3,
   "metadata": {},
   "outputs": [],
   "source": [
    "country_short2long = {'AUS': 'Australia',\n",
    " 'AUT': 'Austria',\n",
    " 'BEL': 'Belgium',\n",
    " 'BGR': 'Bulgaria',\n",
    " 'BRA': 'Brazil',\n",
    " 'CAN': 'Canada',\n",
    " 'CHE': 'Switzerland',\n",
    " 'CHN': 'China',\n",
    " 'CYP': 'Cyprus',\n",
    " 'CZE': 'Czech Republic',\n",
    " 'DEU': 'Germany',\n",
    " 'DNK': 'Denmark',\n",
    " 'ESP': 'Spain',\n",
    " 'EST': 'Burkina Faso',\n",
    " 'FIN': 'Finland',\n",
    " 'FRA': 'France',\n",
    " 'GBR': 'United Kingdom',\n",
    " 'GRC': 'Greece',\n",
    " 'HRV': 'Croatia',\n",
    " 'HUN': 'Hungary',\n",
    " 'IDN': 'Indonesia',\n",
    " 'IND': 'India',\n",
    " 'IRL': 'Ireland',\n",
    " 'ITA': 'Italy',\n",
    " 'JPN': 'Japan',\n",
    " 'KOR': 'Korea, Rep.',\n",
    " 'LTU': 'Lithuania',\n",
    " 'LUX': 'Luxembourg',\n",
    " 'LVA': 'Latvia',\n",
    " 'MEX': 'Mexico',\n",
    " 'MLT': 'Malta',\n",
    " 'NLD': 'Netherlands',\n",
    " 'NOR': 'Norway',\n",
    " 'POL': 'Poland',\n",
    " 'PRT': 'Portugal',\n",
    " 'ROU': 'Romania',\n",
    " 'RUS': 'Russian Federation',\n",
    " 'SVK': 'Slovak Republic',\n",
    " 'SVN': 'Slovenia',\n",
    " 'SWE': 'Sweden',\n",
    " 'TUR': 'Turkey',\n",
    " 'USA': 'United States'}"
   ]
  },
  {
   "cell_type": "code",
   "execution_count": 4,
   "metadata": {},
   "outputs": [],
   "source": [
    "df = pd.read_csv('indicator_population.csv')\n",
    "\n",
    "\n",
    "for key in country_short2long.keys():\n",
    "    df = df.replace(key,country_short2long[key] )\n",
    "df.to_csv (path_or_buf= '../data/my_indicator_gapminder_population.csv',  index= None, header=True)  "
   ]
  },
  {
   "cell_type": "code",
   "execution_count": 5,
   "metadata": {},
   "outputs": [
    {
     "name": "stdout",
     "output_type": "stream",
     "text": [
      "gdp_per_capita.csv        gdp_per_gross_output.csv  indicator_population.csv\r\n"
     ]
    }
   ],
   "source": [
    "ls"
   ]
  },
  {
   "cell_type": "code",
   "execution_count": 6,
   "metadata": {},
   "outputs": [],
   "source": [
    "df = pd.read_csv('gdp_per_capita.csv')\n",
    "\n",
    "\n",
    "for key in country_short2long.keys():\n",
    "    df = df.replace(key,country_short2long[key] )\n",
    "df.to_csv (path_or_buf= '../data/my_gdp_per_capita_ppp.csv',  index= None, header=True)  "
   ]
  },
  {
   "cell_type": "code",
   "execution_count": 7,
   "metadata": {},
   "outputs": [],
   "source": [
    "df = pd.read_csv('gdp_per_gross_output.csv')\n",
    "\n",
    "\n",
    "for key in country_short2long.keys():\n",
    "    df = df.replace(key,country_short2long[key] )\n",
    "df.to_csv (path_or_buf= '../data/my_life_expectancy_at_birth.csv',  index= None, header=True)  "
   ]
  },
  {
   "cell_type": "code",
   "execution_count": 8,
   "metadata": {},
   "outputs": [],
   "source": [
    "#df = pd.read_csv('color_regions.csv')\n",
    "#df = df.rename(index=str, columns={\"Entity\": \"ID\", \"ID\": \"Entity\"})\n"
   ]
  },
  {
   "cell_type": "code",
   "execution_count": 9,
   "metadata": {},
   "outputs": [],
   "source": [
    "#df.to_csv (path_or_buf= '../data/my_color_regions.csv',  index= None, header=True)  "
   ]
  },
  {
   "cell_type": "code",
   "execution_count": 11,
   "metadata": {},
   "outputs": [
    {
     "data": {
      "text/plain": [
       "50503"
      ]
     },
     "execution_count": 11,
     "metadata": {},
     "output_type": "execute_result"
    }
   ],
   "source": [
    "237+21+0+54+537+429+126+141+125+0+214+223+586+760+1384+960+260+175+289+19+2+94+32+357+40+192+2677+256+1532+1078+881+102+269+691+160+932+107+632+1028+542+18020+1617+4705+1983+841+320+152+148+185+694+1424+758+1034+408+70+0"
   ]
  },
  {
   "cell_type": "code",
   "execution_count": null,
   "metadata": {},
   "outputs": [],
   "source": []
  }
 ],
 "metadata": {
  "kernelspec": {
   "display_name": "Python 3",
   "language": "python",
   "name": "python3"
  },
  "language_info": {
   "codemirror_mode": {
    "name": "ipython",
    "version": 3
   },
   "file_extension": ".py",
   "mimetype": "text/x-python",
   "name": "python",
   "nbconvert_exporter": "python",
   "pygments_lexer": "ipython3",
   "version": "3.6.6"
  }
 },
 "nbformat": 4,
 "nbformat_minor": 2
}
